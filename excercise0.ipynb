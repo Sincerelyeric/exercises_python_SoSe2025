{
 "cells": [
  {
   "cell_type": "code",
   "execution_count": 6,
   "id": "9ab89dc4-749d-4cc8-bb00-3339509e094d",
   "metadata": {},
   "outputs": [
    {
     "name": "stdout",
     "output_type": "stream",
     "text": [
      "90.70294784580499\n",
      "200\n"
     ]
    },
    {
     "data": {
      "text/plain": [
       "float"
      ]
     },
     "execution_count": 6,
     "metadata": {},
     "output_type": "execute_result"
    }
   ],
   "source": [
    "pounds = 2.205\n",
    "x = 200 / pounds\n",
    "y = 200\n",
    "print(x)\n",
    "print(y)"
   ]
  },
  {
   "cell_type": "code",
   "execution_count": 10,
   "id": "7a8fa61e-525d-447f-b5bb-06ab3f11395e",
   "metadata": {},
   "outputs": [
    {
     "data": {
      "text/plain": [
       "str"
      ]
     },
     "execution_count": 10,
     "metadata": {},
     "output_type": "execute_result"
    }
   ],
   "source": [
    "x=\"Hallo\"\n",
    "type(x)\n"
   ]
  },
  {
   "cell_type": "code",
   "execution_count": 15,
   "id": "e0e9c393-cc00-4df5-b120-b084289266de",
   "metadata": {},
   "outputs": [
    {
     "data": {
      "text/plain": [
       "3.999"
      ]
     },
     "execution_count": 15,
     "metadata": {},
     "output_type": "execute_result"
    }
   ],
   "source": [
    "y='3.999'\n",
    "type(y)\n",
    "float (y)"
   ]
  },
  {
   "cell_type": "code",
   "execution_count": 16,
   "id": "5b5db412-326b-4470-87a2-05542e7fca32",
   "metadata": {},
   "outputs": [
    {
     "data": {
      "text/plain": [
       "3.0"
      ]
     },
     "execution_count": 16,
     "metadata": {},
     "output_type": "execute_result"
    }
   ],
   "source": [
    "z =\"3\"\n",
    "float(z)"
   ]
  },
  {
   "cell_type": "code",
   "execution_count": 19,
   "id": "608a970f-33d0-4544-be04-c2b7d4451a04",
   "metadata": {},
   "outputs": [
    {
     "data": {
      "text/plain": [
       "3"
      ]
     },
     "execution_count": 19,
     "metadata": {},
     "output_type": "execute_result"
    }
   ],
   "source": [
    "u=3.5\n",
    "int(u)"
   ]
  },
  {
   "cell_type": "code",
   "execution_count": 22,
   "id": "6006733b-8261-4448-af2b-3ce9084f0cb6",
   "metadata": {},
   "outputs": [
    {
     "data": {
      "text/plain": [
       "'3.5'"
      ]
     },
     "execution_count": 22,
     "metadata": {},
     "output_type": "execute_result"
    }
   ],
   "source": [
    "p=3.5\n",
    "str(p)"
   ]
  },
  {
   "cell_type": "code",
   "execution_count": 3,
   "id": "c406f849-fdbd-4d9a-a5a3-2454151fc7bd",
   "metadata": {},
   "outputs": [
    {
     "name": "stdout",
     "output_type": "stream",
     "text": [
      "100 81 0.01\n"
     ]
    }
   ],
   "source": [
    "x=(2*5)**(1+1)\n",
    "y=3**2**2\n",
    "z=1/((2*5)**(1+1))\n",
    "print(x,y,z)"
   ]
  },
  {
   "cell_type": "code",
   "execution_count": 5,
   "id": "4ff9c93a-5b1f-4403-941c-8ace15a31957",
   "metadata": {},
   "outputs": [
    {
     "name": "stdout",
     "output_type": "stream",
     "text": [
      "134.39163793441222\n"
     ]
    }
   ],
   "source": [
    "x=100*1.03**10\n",
    "print(x)"
   ]
  },
  {
   "cell_type": "code",
   "execution_count": 9,
   "id": "ff3ff09a-7c28-421e-ba66-85d194f439b7",
   "metadata": {},
   "outputs": [
    {
     "data": {
      "text/plain": [
       "2.7182792426663553"
      ]
     },
     "execution_count": 9,
     "metadata": {},
     "output_type": "execute_result"
    }
   ],
   "source": [
    "a=1\n",
    "p=1\n",
    "t=1\n",
    "n=60*24*365\n",
    "M=a*(1+p/n)**(t*n)\n",
    "M"
   ]
  },
  {
   "cell_type": "code",
   "execution_count": 11,
   "id": "5a16dc54-d884-4dc5-bf61-0a8b808360d4",
   "metadata": {},
   "outputs": [],
   "source": [
    "from math import exp\n"
   ]
  },
  {
   "cell_type": "code",
   "execution_count": 13,
   "id": "959309f4-289d-4f4c-b7dd-7366435945e3",
   "metadata": {},
   "outputs": [
    {
     "data": {
      "text/plain": [
       "2.718281828459045"
      ]
     },
     "execution_count": 13,
     "metadata": {},
     "output_type": "execute_result"
    }
   ],
   "source": [
    "exp(1)"
   ]
  },
  {
   "cell_type": "code",
   "execution_count": 19,
   "id": "09ab8cd0-4911-4d94-b0b4-ff9766bc7d2c",
   "metadata": {},
   "outputs": [
    {
     "name": "stdout",
     "output_type": "stream",
     "text": [
      "3.141592653589793 2.718281828459045\n"
     ]
    }
   ],
   "source": [
    "from math import exp,pi\n",
    "F=pi*1**2\n",
    "A=1*(exp((1*1)))\n",
    "print(F,A)"
   ]
  }
 ],
 "metadata": {
  "kernelspec": {
   "display_name": "Python 3 (ipykernel)",
   "language": "python",
   "name": "python3"
  },
  "language_info": {
   "codemirror_mode": {
    "name": "ipython",
    "version": 3
   },
   "file_extension": ".py",
   "mimetype": "text/x-python",
   "name": "python",
   "nbconvert_exporter": "python",
   "pygments_lexer": "ipython3",
   "version": "3.11.11"
  }
 },
 "nbformat": 4,
 "nbformat_minor": 5
}
